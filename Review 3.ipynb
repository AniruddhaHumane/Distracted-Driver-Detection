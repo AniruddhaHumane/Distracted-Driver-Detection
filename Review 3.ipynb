{
 "cells": [
  {
   "cell_type": "code",
   "execution_count": 1,
   "metadata": {},
   "outputs": [
    {
     "name": "stderr",
     "output_type": "stream",
     "text": [
      "Using Theano backend.\n",
      "Using gpu device 0: GeForce GTX 1080 (CNMeM is disabled, cuDNN 5105)\n",
      "/home/cuda/.local/lib/python3.5/site-packages/theano/sandbox/cuda/__init__.py:600: UserWarning: Your cuDNN version is more recent than the one Theano officially supports. If you see any problems, try updating Theano or downgrading cuDNN to version 5.\n",
      "  warnings.warn(warn)\n"
     ]
    }
   ],
   "source": [
    "import pandas as pd\n",
    "import numpy as np\n",
    "from PIL import Image\n",
    "from sklearn.model_selection import cross_val_score, KFold\n",
    "from keras.models import Sequential\n",
    "from sklearn.metrics import accuracy_score\n",
    "from keras.wrappers.scikit_learn import KerasRegressor\n",
    "seed = 42\n",
    "from keras.preprocessing.image import ImageDataGenerator\n",
    "from keras.models import Sequential\n",
    "from keras.layers import Conv2D, MaxPooling2D\n",
    "from keras.layers import Activation, Dropout, Flatten, Dense\n",
    "from keras.optimizers import RMSprop\n",
    "from keras import backend as K\n",
    "K.set_image_dim_ordering('th')"
   ]
  },
  {
   "cell_type": "code",
   "execution_count": 2,
   "metadata": {},
   "outputs": [
    {
     "name": "stderr",
     "output_type": "stream",
     "text": [
      "Using TensorFlow backend.\n"
     ]
    }
   ],
   "source": [
    "\n",
    "# import importlib\n",
    "# import os\n",
    "4077, -24.20391846],\n",
    "       [ -3.06291199, -29.1925354 , -54.17045593, ..., -11.0681076 ,\n",
    "        -25.03192139, -48.92904663],\n",
    "       ..., \n",
    "       [ 12.9357605 ,   0.0642662 , -43.96864319, ...,  -5.27310944,\n",
    "        -21.49401855, -50.50608826],\n",
    "       [ -1.900383  , -20.00675201, -50.1171875 , ...,  -7.74325943,\n",
    "        -23.73028564, -61.93417358],\n",
    "       [ 16.03391647, -19.57675934, -28.65151978, ...,  -3.3750267 ,\n",
    "        -10.91635132, -41.78013611]])\n",
    "# def set_keras_backend(backend):\n",
    "\n",
    "#     if K.backend() != backend:\n",
    "#         os.environ['KERAS_BACKEND'] = backend\n",
    "#         importlib.reload(K)\n",
    "#         assert K.backend() == backend\n",
    "\n",
    "# set_keras_backend(\"tensorflow\")"
   ]
  },
  {
   "cell_type": "code",
   "execution_count": 2,
   "metadata": {
    "collapsed": true
   },
   "outputs": [],
   "source": [
    "data = pd.read_csv('keys.txt', delimiter=\"(\",  header=None)\n",
    "for i in range(5):\n",
    "    data[i] = data[i].astype(str).str[:-1]\n",
    "data.columns = [\"image\",\"Head\",\"left_hand\",\"steering_wheel\",\"right_hand\"]\n",
    "data[\"Head_x\"], data[\"Head_y\"] = data['Head'].str.split(',', 1).str\n",
    "data[\"left_hand_x\"], data[\"left_hand_y\"] = data['left_hand'].str.split(',', 1).str\n",
    "data[\"steering_wheel_x\"], data[\"steering_wheel_y\"] = data['steering_wheel'].str.split(',', 1).str\n",
    "data[\"right_hand_x\"], data[\"right_hand_y\"] = data['right_hand'].str.split(',', 1).str\n",
    "data.drop(\"Head\",axis=1,inplace=True)\n",
    "data.drop(\"left_hand\",axis=1,inplace=True)\n",
    "data.drop(\"steering_wheel\",axis=1,inplace=True)\n",
    "data.drop(\"right_hand\",axis=1,inplace=True)"
   ]
  },
  {
   "cell_type": "code",
   "execution_count": 7,
   "metadata": {},
   "outputs": [
    {
     "data": {
      "text/html": [
       "<div>\n",
       "<table border=\"1\" class=\"dataframe\">\n",
       "  <thead>\n",
       "    <tr style=\"text-align: right;\">\n",
       "      <th></th>\n",
       "      <th>image</th>\n",
       "      <th>Head_x</th>\n",
       "      <th>Head_y</th>\n",
       "      <th>left_hand_x</th>\n",
       "      <th>left_hand_y</th>\n",
       "      <th>steering_wheel_x</th>\n",
       "      <th>steering_wheel_y</th>\n",
       "      <th>right_hand_x</th>\n",
       "      <th>right_hand_y</th>\n",
       "    </tr>\n",
       "  </thead>\n",
       "  <tbody>\n",
       "    <tr>\n",
       "      <th>0</th>\n",
       "      <td>img_56.jpg</td>\n",
       "      <td>192</td>\n",
       "      <td>178</td>\n",
       "      <td>461</td>\n",
       "      <td>126</td>\n",
       "      <td>443</td>\n",
       "      <td>219</td>\n",
       "      <td>587</td>\n",
       "      <td>321</td>\n",
       "    </tr>\n",
       "    <tr>\n",
       "      <th>1</th>\n",
       "      <td>img_63.jpg</td>\n",
       "      <td>333</td>\n",
       "      <td>135</td>\n",
       "      <td>636</td>\n",
       "      <td>56</td>\n",
       "      <td>581</td>\n",
       "      <td>171</td>\n",
       "      <td>637</td>\n",
       "      <td>383</td>\n",
       "    </tr>\n",
       "    <tr>\n",
       "      <th>2</th>\n",
       "      <td>img_118.jpg</td>\n",
       "      <td>242</td>\n",
       "      <td>134</td>\n",
       "      <td>539</td>\n",
       "      <td>161</td>\n",
       "      <td>540</td>\n",
       "      <td>240</td>\n",
       "      <td>633</td>\n",
       "      <td>398</td>\n",
       "    </tr>\n",
       "    <tr>\n",
       "      <th>3</th>\n",
       "      <td>img_120.jpg</td>\n",
       "      <td>163</td>\n",
       "      <td>132</td>\n",
       "      <td>479</td>\n",
       "      <td>110</td>\n",
       "      <td>440</td>\n",
       "      <td>213</td>\n",
       "      <td>592</td>\n",
       "      <td>304</td>\n",
       "    </tr>\n",
       "    <tr>\n",
       "      <th>4</th>\n",
       "      <td>img_138.jpg</td>\n",
       "      <td>192</td>\n",
       "      <td>185</td>\n",
       "      <td>514</td>\n",
       "      <td>105</td>\n",
       "      <td>490</td>\n",
       "      <td>213</td>\n",
       "      <td>588</td>\n",
       "      <td>407</td>\n",
       "    </tr>\n",
       "  </tbody>\n",
       "</table>\n",
       "</div>"
      ],
      "text/plain": [
       "         image Head_x Head_y left_hand_x left_hand_y steering_wheel_x  \\\n",
       "0   img_56.jpg    192    178         461         126              443   \n",
       "1   img_63.jpg    333    135         636          56              581   \n",
       "2  img_118.jpg    242    134         539         161              540   \n",
       "3  img_120.jpg    163    132         479         110              440   \n",
       "4  img_138.jpg    192    185         514         105              490   \n",
       "\n",
       "  steering_wheel_y right_hand_x right_hand_y  \n",
       "0              219          587          321  \n",
       "1              171          637          383  \n",
       "2              240          633          398  \n",
       "3              213          592          304  \n",
       "4              213          588          407  "
      ]
     },
     "execution_count": 7,
     "metadata": {},
     "output_type": "execute_result"
    }
   ],
   "source": [
    "data.head()"
   ]
  },
  {
   "cell_type": "code",
   "execution_count": 4,
   "metadata": {
    "collapsed": true
   },
   "outputs": [],
   "source": [
    "data.to_csv(\"preprocessed.csv\",sep=\"\\t\")"
   ]
  },
  {
   "cell_type": "code",
   "execution_count": 3,
   "metadata": {
    "collapsed": true
   },
   "outputs": [],
   "source": [
    "data[\"Head_x\"] = (data[\"Head_x\"].astype(int)*150/640).astype(int)"
   ]
  },
  {
   "cell_type": "code",
   "execution_count": 4,
   "metadata": {
    "collapsed": true
   },
   "outputs": [],
   "source": [
    "data[\"left_hand_x\"] = (data[\"left_hand_x\"].astype(int)*150/640).astype(int)\n",
    "data[\"steering_wheel_x\"] = (data[\"steering_wheel_x\"].astype(int)*150/640).astype(int)\n",
    "data[\"right_hand_x\"] = (data[\"right_hand_x\"].astype(int)*150/640).astype(int)"
   ]
  },
  {
   "cell_type": "code",
   "execution_count": 5,
   "metadata": {
    "collapsed": true
   },
   "outputs": [],
   "source": [
    "data[\"Head_y\"] = (data[\"Head_y\"].astype(int)*150/480).astype(int)\n",
    "data[\"left_hand_y\"] = (data[\"left_hand_y\"].astype(int)*150/480).astype(int)\n",
    "data[\"steering_wheel_y\"] = (data[\"steering_wheel_y\"].astype(int)*150/480).astype(int)\n",
    "data[\"right_hand_y\"] = (data[\"right_hand_y\"].astype(int)*150/480).astype(int)"
   ]
  },
  {
   "cell_type": "code",
   "execution_count": 6,
   "metadata": {
    "collapsed": true
   },
   "outputs": [],
   "source": [
    "X = data[\"image\"].values\n",
    "data.drop(\"image\",axis=1, inplace=True)\n",
    "Y = data.values"
   ]
  },
  {
   "cell_type": "code",
   "execution_count": 7,
   "metadata": {
    "collapsed": true
   },
   "outputs": [],
   "source": [
    "x = np.array([np.array(Image.open(fname).resize((150,150),Image.ANTIALIAS)) for fname in \"key_data/\"+X])"
   ]
  },
  {
   "cell_type": "code",
   "execution_count": 8,
   "metadata": {},
   "outputs": [
    {
     "data": {
      "text/plain": [
       "(499, 3, 150, 150)"
      ]
     },
     "execution_count": 8,
     "metadata": {},
     "output_type": "execute_result"
    }
   ],
   "source": [
    "x = x.transpose(0,3,1,2)\n",
    "x.shape"
   ]
  },
  {
   "cell_type": "code",
   "execution_count": 9,
   "metadata": {
    "collapsed": true
   },
   "outputs": [],
   "source": [
    "def key_model():\n",
    "    model=Sequential()\n",
    "    model.add(Conv2D(32, (3, 3), input_shape=(3,150,150))),1\n",
    "    model.add(Activation('relu'))\n",
    "\n",
    "    model.add(Conv2D(64, (3, 3)))\n",
    "    model.add(Activation('relu'))\n",
    "\n",
    "    model.add(Conv2D(64, (3, 3)))\n",
    "    model.add(Activation('relu'))\n",
    "\n",
    "    # the model so far outputs 3D feature maps (height, width, features)\n",
    "    model.add(Flatten()) # this converts our 3D feature maps to 1D feature vectors\n",
    "    model.add(Dense(64)) # 64 neurons\n",
    "    model.add(Activation('relu'))\n",
    "    model.add(Dense(64)) # 64 neurons\n",
    "    model.add(Activation('relu'))\n",
    "    model.add(Dense(32)) # 64 neurons\n",
    "    model.add(Activation('relu'))\n",
    "\n",
    "    # output layer: get 8 coordinate values\n",
    "    model.add(Dense(8))\n",
    "    model.compile(optimizer='rmsprop',\n",
    "              loss='mse')\n",
    "    return model"
   ]
  },
  {
   "cell_type": "code",
   "execution_count": 14,
   "metadata": {
    "collapsed": true
   },
   "outputs": [],
   "source": [
    "estimator = KerasRegressor(build_fn=key_model, nb_epoch=100, batch_size=100, verbose=True)"
   ]
  },
  {
   "cell_type": "code",
   "execution_count": 15,
   "metadata": {
    "collapsed": true
   },
   "outputs": [],
   "source": [
    "kfold = KFold(n_splits=10, random_state=seed)"
   ]
  },
  {
   "cell_type": "code",
   "execution_count": 16,
   "metadata": {},
   "outputs": [
    {
     "name": "stderr",
     "output_type": "stream",
     "text": [
      "/home/cuda/.local/lib/python3.5/site-packages/keras/backend/theano_backend.py:1890: UserWarning: dict_keys(['filter_dilation']) are now deprecated in `tensor.nnet.abstract_conv.conv2d` interface and will be ignored.\n",
      "  filter_dilation=dilation_rate)\n"
     ]
    },
    {
     "name": "stdout",
     "output_type": "stream",
     "text": [
      "Epoch 1/10\n",
      "449/449 [==============================] - 2s - loss: 161620253.8328     \n",
      "Epoch 2/10\n",
      "449/449 [==============================] - 2s - loss: 18746.5946     \n",
      "Epoch 3/10\n",
      "449/449 [==============================] - 2s - loss: 23061.7499     \n",
      "Epoch 4/10\n",
      "449/449 [==============================] - 2s - loss: 5797.5733     \n",
      "Epoch 5/10\n",
      "449/449 [==============================] - 2s - loss: 4860.5897     \n",
      "Epoch 6/10\n",
      "449/449 [==============================] - 2s - loss: 2987.6301     \n",
      "Epoch 7/10\n",
      "449/449 [==============================] - 2s - loss: 6299.9274     \n",
      "Epoch 8/10\n",
      "449/449 [==============================] - 2s - loss: 4440.2344     \n",
      "Epoch 9/10\n",
      "449/449 [==============================] - 2s - loss: 2480.8842     \n",
      "Epoch 10/10\n",
      "449/449 [==============================] - 2s - loss: 1334.4506     \n",
      "50/50 [==============================] - 0s\n",
      "Epoch 1/10\n",
      "449/449 [==============================] - 2s - loss: 77699053.9410     \n",
      "Epoch 2/10\n",
      "449/449 [==============================] - 2s - loss: 17410.8514     \n",
      "Epoch 3/10\n",
      "449/449 [==============================] - 2s - loss: 8760.1450     \n",
      "Epoch 4/10\n",
      "449/449 [==============================] - 2s - loss: 7643.0097     \n",
      "Epoch 5/10\n",
      "449/449 [==============================] - 2s - loss: 6962.1661     \n",
      "Epoch 6/10\n",
      "449/449 [==============================] - 2s - loss: 6490.4727     \n",
      "Epoch 7/10\n",
      "449/449 [==============================] - 2s - loss: 5898.6966     \n",
      "Epoch 8/10\n",
      "449/449 [==============================] - 2s - loss: 5074.1836     \n",
      "Epoch 9/10\n",
      "449/449 [==============================] - 2s - loss: 4826.2213     \n",
      "Epoch 10/10\n",
      "449/449 [==============================] - 2s - loss: 3946.8566     \n",
      "50/50 [==============================] - 0s\n",
      "Epoch 1/10\n",
      "449/449 [==============================] - 2s - loss: 1473653078.6775     \n",
      "Epoch 2/10\n",
      "449/449 [==============================] - 2s - loss: 145161.3517     \n",
      "Epoch 3/10\n",
      "449/449 [==============================] - 2s - loss: 8768.9347     \n",
      "Epoch 4/10\n",
      "449/449 [==============================] - 2s - loss: 5226.2938     \n",
      "Epoch 5/10\n",
      "449/449 [==============================] - 2s - loss: 4197.9291     \n",
      "Epoch 6/10\n",
      "449/449 [==============================] - 2s - loss: 3388.7693     \n",
      "Epoch 7/10\n",
      "449/449 [==============================] - 2s - loss: 2493.1073     \n",
      "Epoch 8/10\n",
      "449/449 [==============================] - 2s - loss: 73457.3735     \n",
      "Epoch 9/10\n",
      "449/449 [==============================] - 2s - loss: 1858.0345     \n",
      "Epoch 10/10\n",
      "449/449 [==============================] - 2s - loss: 966.5548      \n",
      "50/50 [==============================] - 0s\n",
      "Epoch 1/10\n",
      "449/449 [==============================] - 2s - loss: 31420579.2041     \n",
      "Epoch 2/10\n",
      "449/449 [==============================] - 2s - loss: 7589.1006     \n",
      "Epoch 3/10\n",
      "449/449 [==============================] - 2s - loss: 4813.4234     \n",
      "Epoch 4/10\n",
      "449/449 [==============================] - 2s - loss: 3250.3561     \n",
      "Epoch 5/10\n",
      "449/449 [==============================] - 2s - loss: 2950.5341     \n",
      "Epoch 6/10\n",
      "449/449 [==============================] - 2s - loss: 2587.1710     \n",
      "Epoch 7/10\n",
      "449/449 [==============================] - 2s - loss: 2713.8405     \n",
      "Epoch 8/10\n",
      "449/449 [==============================] - 2s - loss: 2175.3893     \n",
      "Epoch 9/10\n",
      "449/449 [==============================] - 2s - loss: 2121.4531     \n",
      "Epoch 10/10\n",
      "449/449 [==============================] - 2s - loss: 1382.9151     \n",
      "50/50 [==============================] - 0s\n",
      "Epoch 1/10\n",
      "449/449 [==============================] - 2s - loss: 26518674.7777     \n",
      "Epoch 2/10\n",
      "449/449 [==============================] - 2s - loss: 15682.3797     \n",
      "Epoch 3/10\n",
      "449/449 [==============================] - 2s - loss: 9540.7796      \n",
      "Epoch 4/10\n",
      "449/449 [==============================] - 2s - loss: 4338.9859     \n",
      "Epoch 5/10\n",
      "449/449 [==============================] - 2s - loss: 3641.2928     \n",
      "Epoch 6/10\n",
      "449/449 [==============================] - 2s - loss: 3227.6696     \n",
      "Epoch 7/10\n",
      "449/449 [==============================] - 2s - loss: 3097.3052     \n",
      "Epoch 8/10\n",
      "449/449 [==============================] - 2s - loss: 3440.0892     \n",
      "Epoch 9/10\n",
      "449/449 [==============================] - 2s - loss: 2066.5670     \n",
      "Epoch 10/10\n",
      "449/449 [==============================] - 2s - loss: 1603.4652     \n",
      "50/50 [==============================] - 0s\n",
      "Epoch 1/10\n",
      "449/449 [==============================] - 2s - loss: 402371772.3641     \n",
      "Epoch 2/10\n",
      "449/449 [==============================] - 2s - loss: 399166.8685     \n",
      "Epoch 3/10\n",
      "449/449 [==============================] - 2s - loss: 34803.8628     \n",
      "Epoch 4/10\n",
      "449/449 [==============================] - 2s - loss: 8297.0931     \n",
      "Epoch 5/10\n",
      "449/449 [==============================] - 2s - loss: 5527.8410     \n",
      "Epoch 6/10\n",
      "449/449 [==============================] - 2s - loss: 3920.4276     \n",
      "Epoch 7/10\n",
      "449/449 [==============================] - 2s - loss: 3596.4514     \n",
      "Epoch 8/10\n",
      "449/449 [==============================] - 2s - loss: 3107.6311     \n",
      "Epoch 9/10\n",
      "449/449 [==============================] - 2s - loss: 6504.3665     \n",
      "Epoch 10/10\n",
      "449/449 [==============================] - 2s - loss: 2934.8611     \n",
      "50/50 [==============================] - 0s\n",
      "Epoch 1/10\n",
      "449/449 [==============================] - 2s - loss: 555841285.5249     \n",
      "Epoch 2/10\n",
      "449/449 [==============================] - 2s - loss: 135955.2308     \n",
      "Epoch 3/10\n",
      "449/449 [==============================] - 2s - loss: 8154.4088     \n",
      "Epoch 4/10\n",
      "449/449 [==============================] - 2s - loss: 1828.5101     \n",
      "Epoch 5/10\n",
      "449/449 [==============================] - 2s - loss: 1643.8261     \n",
      "Epoch 6/10\n",
      "449/449 [==============================] - 2s - loss: 2644.7091     \n",
      "Epoch 7/10\n",
      "449/449 [==============================] - 2s - loss: 2636.8980     \n",
      "Epoch 8/10\n",
      "449/449 [==============================] - 2s - loss: 2056.4646     \n",
      "Epoch 9/10\n",
      "449/449 [==============================] - 2s - loss: 938.8905     \n",
      "Epoch 10/10\n",
      "449/449 [==============================] - 2s - loss: 3277.4895     \n",
      "50/50 [==============================] - 0s\n",
      "Epoch 1/10\n",
      "449/449 [==============================] - 2s - loss: 8143729.3554     \n",
      "Epoch 2/10\n",
      "449/449 [==============================] - 2s - loss: 4056.2991     \n",
      "Epoch 3/10\n",
      "449/449 [==============================] - 2s - loss: 2751.9324     \n",
      "Epoch 4/10\n",
      "449/449 [==============================] - 2s - loss: 1424.1816     \n",
      "Epoch 5/10\n",
      "449/449 [==============================] - 2s - loss: 4213.7076     \n",
      "Epoch 6/10\n",
      "449/449 [==============================] - 2s - loss: 873.9022     \n",
      "Epoch 7/10\n",
      "449/449 [==============================] - 2s - loss: 506.3935     \n",
      "Epoch 8/10\n",
      "449/449 [==============================] - 2s - loss: 334.2298     \n",
      "Epoch 9/10\n",
      "449/449 [==============================] - 2s - loss: 271.1428     \n",
      "Epoch 10/10\n",
      "449/449 [==============================] - 2s - loss: 798.3803     \n",
      "50/50 [==============================] - 0s\n",
      "Epoch 1/10\n",
      "449/449 [==============================] - 2s - loss: 437384951.4334     \n",
      "Epoch 2/10\n",
      "449/449 [==============================] - 2s - loss: 20413.4188     \n",
      "Epoch 3/10\n",
      "449/449 [==============================] - 2s - loss: 7322.1064     \n",
      "Epoch 4/10\n",
      "449/449 [==============================] - 2s - loss: 7232.6855     \n",
      "Epoch 5/10\n",
      "449/449 [==============================] - 2s - loss: 4801.6841     \n",
      "Epoch 6/10\n",
      "449/449 [==============================] - 2s - loss: 3757.6511     \n",
      "Epoch 7/10\n",
      "449/449 [==============================] - 2s - loss: 5325.2767     \n",
      "Epoch 8/10\n",
      "449/449 [==============================] - 2s - loss: 3385.6600     \n",
      "Epoch 9/10\n",
      "449/449 [==============================] - 2s - loss: 1707.6132     \n",
      "Epoch 10/10\n",
      "449/449 [==============================] - 2s - loss: 2609.8997     \n",
      "50/50 [==============================] - 0s\n",
      "Epoch 1/10\n",
      "450/450 [==============================] - 2s - loss: 116461518.5354     \n",
      "Epoch 2/10\n",
      "450/450 [==============================] - 2s - loss: 73359.5430     \n",
      "Epoch 3/10\n",
      "450/450 [==============================] - 2s - loss: 18866.2308     \n",
      "Epoch 4/10\n",
      "450/450 [==============================] - 2s - loss: 5269.3940     \n",
      "Epoch 5/10\n",
      "450/450 [==============================] - 2s - loss: 3696.9495     \n",
      "Epoch 6/10\n",
      "450/450 [==============================] - 2s - loss: 3338.3826     \n",
      "Epoch 7/10\n",
      "450/450 [==============================] - 2s - loss: 3586.9528     \n",
      "Epoch 8/10\n",
      "450/450 [==============================] - 2s - loss: 2108.9615     \n",
      "Epoch 9/10\n",
      "450/450 [==============================] - 2s - loss: 2046.2897     \n",
      "Epoch 10/10\n",
      "450/450 [==============================] - 2s - loss: 1917.6407     \n",
      "49/49 [==============================] - 0s\n"
     ]
    }
   ],
   "source": [
    "results = cross_val_score(estimator, x, Y, cv=kfold)"
   ]
  },
  {
   "cell_type": "code",
   "execution_count": 17,
   "metadata": {},
   "outputs": [
    {
     "data": {
      "text/plain": [
       "array([  844.53131104,  3428.82983398,   615.43988037,   812.21459961,\n",
       "        1587.42553711,  1887.31665039,  1323.55126953,  1084.23657227,\n",
       "        2022.53198242,  2734.52099609])"
      ]
     },
     "execution_count": 17,
     "metadata": {},
     "output_type": "execute_result"
    }
   ],
   "source": [
    "results"
   ]
  },
  {
   "cell_type": "code",
   "execution_count": 18,
   "metadata": {},
   "outputs": [
    {
     "name": "stdout",
     "output_type": "stream",
     "text": [
      "Results: 1634.06 (859.33) MSE\n"
     ]
    }
   ],
   "source": [
    "Xprint(\"Results: %.2f (%.2f) MSE\" % (results.mean(), results.std()))\n"
   ]
  },
  {
   "cell_type": "code",
   "execution_count": 19,
   "metadata": {},
   "outputs": [
    {
     "name": "stderr",
     "output_type": "stream",
     "text": [
      "/home/cuda/.local/lib/python3.5/site-packages/keras/backend/theano_backend.py:1890: UserWarning: dict_keys(['filter_dilation']) are now deprecated in `tensor.nnet.abstract_conv.conv2d` interface and will be ignored.\n",
      "  filter_dilation=dilation_rate)\n"
     ]
    },
    {
     "name": "stdout",
     "output_type": "stream",
     "text": [
      "Epoch 1/10\n",
      "499/499 [==============================] - 2s - loss: 8136522.2136      \n",
      "Epoch 2/10\n",
      "499/499 [==============================] - 2s - loss: 7895.8009     \n",
      "Epoch 3/10\n",
      "499/499 [==============================] - 2s - loss: 15744.3975     \n",
      "Epoch 4/10\n",
      "499/499 [==============================] - 2s - loss: 4127.5210     \n",
      "Epoch 5/10\n",
      "499/499 [==============================] - 2s - loss: 1884.8105     \n",
      "Epoch 6/10\n",
      "499/499 [==============================] - 2s - loss: 1133.3692    \n",
      "Epoch 7/10\n",
      "499/499 [==============================] - 2s - loss: 887.0382     \n",
      "Epoch 8/10\n",
      "499/499 [==============================] - 2s - loss: 2895.0716     \n",
      "Epoch 9/10\n",
      "499/499 [==============================] - 2s - loss: 561.8583     \n",
      "Epoch 10/10\n",
      "499/499 [==============================] - 2s - loss: 921.4650     \n",
      "499/499 [==============================] - 1s     \n"
     ]
    },
    {
     "ename": "NameError",
     "evalue": "name 'y' is not defined",
     "output_type": "error",
     "traceback": [
      "\u001b[0;31m---------------------------------------------------------------------------\u001b[0m",
      "\u001b[0;31mNameError\u001b[0m                                 Traceback (most recent call last)",
      "\u001b[0;32m<ipython-input-19-196aaffe4c36>\u001b[0m in \u001b[0;36m<module>\u001b[0;34m()\u001b[0m\n\u001b[1;32m      1\u001b[0m \u001b[0mestimator\u001b[0m\u001b[0;34m.\u001b[0m\u001b[0mfit\u001b[0m\u001b[0;34m(\u001b[0m\u001b[0mx\u001b[0m\u001b[0;34m,\u001b[0m \u001b[0mY\u001b[0m\u001b[0;34m)\u001b[0m\u001b[0;34m\u001b[0m\u001b[0m\n\u001b[1;32m      2\u001b[0m \u001b[0mprediction\u001b[0m \u001b[0;34m=\u001b[0m \u001b[0mestimator\u001b[0m\u001b[0;34m.\u001b[0m\u001b[0mpredict\u001b[0m\u001b[0;34m(\u001b[0m\u001b[0mx\u001b[0m\u001b[0;34m)\u001b[0m\u001b[0;34m\u001b[0m\u001b[0m\n\u001b[0;32m----> 3\u001b[0;31m \u001b[0maccuracy_score\u001b[0m\u001b[0;34m(\u001b[0m\u001b[0my\u001b[0m\u001b[0;34m,\u001b[0m \u001b[0mprediction\u001b[0m\u001b[0;34m)\u001b[0m\u001b[0;34m\u001b[0m\u001b[0m\n\u001b[0m",
      "\u001b[0;31mNameError\u001b[0m: name 'y' is not defined"
     ]
    }
   ],
   "source": [
    "estimator.fit(x, Y)\n",
    "prediction = estimator.predict(x)"
   ]
  },
  {
   "cell_type": "code",
   "execution_count": 26,
   "metadata": {},
   "outputs": [
    {
     "data": {
      "text/plain": [
       "array([[  5.44755173,  13.33124924, -35.94509888, ...,   0.36623383,\n",
       "        -13.73826599, -49.1672821 ],\n",
       "       [ 18.76260757,  -3.27388   ,  -7.21040344, ...,   2.66313553,\n",
       "         -5.58554077, -24.20391846],\n",
       "       [ -3.06291199, -29.1925354 , -54.17045593, ..., -11.0681076 ,\n",
       "        -25.03192139, -48.92904663],\n",
       "       ..., \n",
       "       [ 12.9357605 ,   0.0642662 , -43.96864319, ...,  -5.27310944,\n",
       "        -21.49401855, -50.50608826],\n",
       "       [ -1.900383  , -20.00675201, -50.1171875 , ...,  -7.74325943,\n",
       "        -23.73028564, -61.93417358],\n",
       "       [ 16.03391647, -19.57675934, -28.65151978, ...,  -3.3750267 ,\n",
       "        -10.91635132, -41.78013611]])"
      ]
     },
     "execution_count": 26,
     "metadata": {},
     "output_type": "execute_result"
    }
   ],
   "source": [
    "mse = Y-prediction\n",
    "mse"
   ]
  },
  {
   "cell_type": "code",
   "execution_count": 27,
   "metadata": {
    "collapsed": true
   },
   "outputs": [],
   "source": [
    "mse = np.multiply(mse,mse)"
   ]
  },
  {
   "cell_type": "code",
   "execution_count": 29,
   "metadata": {},
   "outputs": [
    {
     "data": {
      "text/plain": [
       "array([  2.96758198e+01,   1.77722206e+02,   1.29205013e+03,\n",
       "         5.27475861e+02,   1.36337359e+03,   1.34127215e-01,\n",
       "         1.88739952e+02,   2.41742163e+03])"
      ]
     },
     "execution_count": 29,
     "metadata": {},
     "output_type": "execute_result"
    }
   ],
   "source": []
  },
  {
   "cell_type": "code",
   "execution_count": null,
   "metadata": {
    "collapsed": true
   },
   "outputs": [],
   "source": []
  }
 ],
 "metadata": {
  "kernelspec": {
   "display_name": "Python 3",
   "language": "python",
   "name": "python3"
  },
  "language_info": {
   "codemirror_mode": {
    "name": "ipython",
    "version": 3
   },
   "file_extension": ".py",
   "mimetype": "text/x-python",
   "name": "python",
   "nbconvert_exporter": "python",
   "pygments_lexer": "ipython3",
   "version": "3.6.3"
  }
 },
 "nbformat": 4,
 "nbformat_minor": 2
}
