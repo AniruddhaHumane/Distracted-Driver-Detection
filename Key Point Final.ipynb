{
 "cells": [
  {
   "cell_type": "code",
   "execution_count": 1,
   "metadata": {},
   "outputs": [
    {
     "data": {
      "text/plain": [
       "[name: \"/cpu:0\"\n",
       " device_type: \"CPU\"\n",
       " memory_limit: 268435456\n",
       " locality {\n",
       " }\n",
       " incarnation: 11471130962457332642, name: \"/gpu:0\"\n",
       " device_type: \"GPU\"\n",
       " memory_limit: 48037888\n",
       " locality {\n",
       "   bus_id: 1\n",
       " }\n",
       " incarnation: 10827895117604374774\n",
       " physical_device_desc: \"device: 0, name: GeForce GTX 1080, pci bus id: 0000:01:00.0\"]"
      ]
     },
     "execution_count": 1,
     "metadata": {},
     "output_type": "execute_result"
    }
   ],
   "source": [
    "from tensorflow.python.client import device_lib\n",
    "\n",
    "device_lib.list_local_devices()"
   ]
  },
  {
   "cell_type": "code",
   "execution_count": 2,
   "metadata": {},
   "outputs": [
    {
     "name": "stderr",
     "output_type": "stream",
     "text": [
      "Using Theano backend.\n",
      "Using gpu device 0: GeForce GTX 1080 (CNMeM is disabled, cuDNN 5105)\n",
      "/home/cuda/.local/lib/python3.5/site-packages/theano/sandbox/cuda/__init__.py:600: UserWarning: Your cuDNN version is more recent than the one Theano officially supports. If you see any problems, try updating Theano or downgrading cuDNN to version 5.\n",
      "  warnings.warn(warn)\n"
     ]
    }
   ],
   "source": [
    "from sklearn.model_selection import cross_val_score, KFold\n",
    "from keras.models import Sequential\n",
    "from sklearn.metrics import accuracy_score\n",
    "import pandas as pd\n",
    "from keras.optimizers import RMSprop\n",
    "from keras.layers import Dense\n",
    "from keras.wrappers.scikit_learn import KerasRegressor\n",
    "from keras.layers import Conv2D, MaxPooling2D\n",
    "from keras.layers import Activation, Dropout, Flatten, Dense\n",
    "from keras import backend as K\n",
    "K.set_image_dim_ordering('th')\n",
    "seed = 42"
   ]
  },
  {
   "cell_type": "code",
   "execution_count": 3,
   "metadata": {},
   "outputs": [
    {
     "name": "stderr",
     "output_type": "stream",
     "text": [
      "Using TensorFlow backend.\n"
     ]
    }
   ],
   "source": [
    "\n",
    "import importlib\n",
    "import os\n",
    "\n",
    "def set_keras_backend(backend):\n",
    "\n",
    "    if K.backend() != backend:\n",
    "        os.environ['KERAS_BACKEND'] = backendhttp://localhost:8888/notebooks\n",
    "        importlib.reload(K)\n",
    "        assert K.backend() == backend\n",
    "\n",
    "set_keras_backend(\"tensorflow\")\n"
   ]
  },
  {
   "cell_type": "code",
   "execution_count": 17,
   "metadata": {
    "collapsed": true
   },
   "outputs": [],
   "source": [
    "import numpy as np\n",
    "from PIL import Image"
   ]
  },
  {
   "cell_type": "code",
   "execution_count": 4,
   "metadata": {
    "collapsed": true
   },
   "outputs": [],
   "source": [
    "data = pd.read_csv('keys.txt', delimiter=\"(\",  header=None)"
   ]
  },
  {
   "cell_type": "code",
   "execution_count": 5,
   "metadata": {
    "collapsed": true
   },
   "outputs": [],
   "source": [
    "for i in range(5):\n",
    "    data[i] = data[i].astype(str).str[:-1]"
   ]
  },
  {
   "cell_type": "code",
   "execution_count": 6,
   "metadata": {
    "collapsed": true
   },
   "outputs": [],
   "source": [
    "data.columns = [\"image\",\"Head\",\"left_hand\",\"steering_wheel\",\"right_hand\"]"
   ]
  },
  {
   "cell_type": "code",
   "execution_count": 7,
   "metadata": {
    "collapsed": true
   },
   "outputs": [],
   "source": [
    "data[\"Head_x\"], data[\"Head_y\"] = data['Head'].str.split(',', 1).str\n",
    "data[\"left_hand_x\"], data[\"left_hand_y\"] = data['left_hand'].str.split(',', 1).str\n",
    "data[\"steering_wheel_x\"], data[\"steering_wheel_y\"] = data['steering_wheel'].str.split(',', 1).str\n",
    "data[\"right_hand_x\"], data[\"right_hand_y\"] = data['right_hand'].str.split(',', 1).str"
   ]
  },
  {
   "cell_type": "code",
   "execution_count": 8,
   "metadata": {},
   "outputs": [
    {
     "data": {
      "text/html": [
       "<div>\n",
       "<table border=\"1\" class=\"dataframe\">\n",
       "  <thead>\n",
       "    <tr style=\"text-align: right;\">\n",
       "      <th></th>\n",
       "      <th>image</th>\n",
       "      <th>Head_x</th>\n",
       "      <th>Head_y</th>\n",
       "      <th>left_hand_x</th>\n",
       "      <th>left_hand_y</th>\n",
       "      <th>steering_wheel_x</th>\n",
       "      <th>steering_wheel_y</th>\n",
       "      <th>right_hand_x</th>\n",
       "      <th>right_hand_y</th>\n",
       "    </tr>\n",
       "  </thead>\n",
       "  <tbody>\n",
       "    <tr>\n",
       "      <th>0</th>\n",
       "      <td>img_56.jpg</td>\n",
       "      <td>192</td>\n",
       "      <td>178</td>\n",
       "      <td>461</td>\n",
       "      <td>126</td>\n",
       "      <td>443</td>\n",
       "      <td>219</td>\n",
       "      <td>587</td>\n",
       "      <td>321</td>\n",
       "    </tr>\n",
       "    <tr>\n",
       "      <th>1</th>\n",
       "      <td>img_63.jpg</td>\n",
       "      <td>333</td>\n",
       "      <td>135</td>\n",
       "      <td>636</td>\n",
       "      <td>56</td>\n",
       "      <td>581</td>\n",
       "      <td>171</td>\n",
       "      <td>637</td>\n",
       "      <td>383</td>\n",
       "    </tr>\n",
       "    <tr>\n",
       "      <th>2</th>\n",
       "      <td>img_118.jpg</td>\n",
       "      <td>242</td>\n",
       "      <td>134</td>\n",
       "      <td>539</td>\n",
       "      <td>161</td>\n",
       "      <td>540</td>\n",
       "      <td>240</td>\n",
       "      <td>633</td>\n",
       "      <td>398</td>\n",
       "    </tr>\n",
       "    <tr>\n",
       "      <th>3</th>\n",
       "      <td>img_120.jpg</td>\n",
       "      <td>163</td>\n",
       "      <td>132</td>\n",
       "      <td>479</td>\n",
       "      <td>110</td>\n",
       "      <td>440</td>\n",
       "      <td>213</td>\n",
       "      <td>592</td>\n",
       "      <td>304</td>\n",
       "    </tr>\n",
       "    <tr>\n",
       "      <th>4</th>\n",
       "      <td>img_138.jpg</td>\n",
       "      <td>192</td>\n",
       "      <td>185</td>\n",
       "      <td>514</td>\n",
       "      <td>105</td>\n",
       "      <td>490</td>\n",
       "      <td>213</td>\n",
       "      <td>588</td>\n",
       "      <td>407</td>\n",
       "    </tr>\n",
       "  </tbody>\n",
       "</table>\n",
       "</div>"
      ],
      "text/plain": [
       "         image Head_x Head_y left_hand_x left_hand_y steering_wheel_x  \\\n",
       "0   img_56.jpg    192    178         461         126              443   \n",
       "1   img_63.jpg    333    135         636          56              581   \n",
       "2  img_118.jpg    242    134         539         161              540   \n",
       "3  img_120.jpg    163    132         479         110              440   \n",
       "4  img_138.jpg    192    185         514         105              490   \n",
       "\n",
       "  steering_wheel_y right_hand_x right_hand_y  \n",
       "0              219          587          321  \n",
       "1              171          637          383  \n",
       "2              240          633          398  \n",
       "3              213          592          304  \n",
       "4              213          588          407  "
      ]
     },
     "execution_count": 8,
     "metadata": {},
     "output_type": "execute_result"
    }
   ],
   "source": [
    "data.drop(\"Head\",axis=1,inplace=True)\n",
    "data.drop(\"left_hand\",axis=1,inplace=True)\n",
    "data.drop(\"steering_wheel\",axis=1,inplace=True)\n",
    "data.drop(\"right_hand\",axis=1,inplace=True)\n",
    "data.head()"
   ]
  },
  {
   "cell_type": "code",
   "execution_count": 9,
   "metadata": {
    "collapsed": true
   },
   "outputs": [],
   "source": [
    "def key_model():\n",
    "    model=Sequential()\n",
    "    model.add(Conv2D(32, (3, 3), input_shape=(3,150,150)))\n",
    "    model.add(Activation('relu'))\n",
    "\n",
    "    model.add(Conv2D(64, (3, 3)))\n",
    "    model.add(Activation('relu'))\n",
    "\n",
    "    model.add(Conv2D(64, (3, 3)))\n",
    "    model.add(Activation('relu'))\n",
    "\n",
    "    # the model so far outputs 3D feature maps (height, width, features)\n",
    "    model.add(Flatten()) # this converts our 3D feature maps to 1D feature vectors\n",
    "    model.add(Dense(64)) # 64 neurons\n",
    "    model.add(Activation('relu'))\n",
    "    model.add(Dense(64)) # 64 neurons\n",
    "    model.add(Activation('relu'))\n",
    "    model.add(Dense(32)) # 64 neurons\n",
    "    model.add(Activation('relu'))\n",
    "\n",
    "    # output layer: get 8 coordinate values\n",
    "    model.add(Dense(8))\n",
    "    model.compile(loss='mean_squared_error', optimizer=RMSprop())\n",
    "    return model"
   ]
  },
  {
   "cell_type": "code",
   "execution_count": 10,
   "metadata": {},
   "outputs": [
    {
     "data": {
      "text/plain": [
       "array([['img_56.jpg', '192', '178', ..., '219', '587', '321'],\n",
       "       ['img_63.jpg', '333', '135', ..., '171', '637', '383'],\n",
       "       ['img_118.jpg', '242', '134', ..., '240', '633', '398'],\n",
       "       ..., \n",
       "       ['img_20722.jpg', '206', '148', ..., '217', '592', '336'],\n",
       "       ['img_20750.jpg', '216', '108', ..., '164', '625', '291'],\n",
       "       ['img_20763.jpg', '288', '92', ..., '170', '628', '339']], dtype=object)"
      ]
     },
     "execution_count": 10,
     "metadata": {},
     "output_type": "execute_result"
    }
   ],
   "source": [
    "data.values"
   ]
  },
  {
   "cell_type": "code",
   "execution_count": 11,
   "metadata": {
    "collapsed": true
   },
   "outputs": [],
   "source": [
    "X = data[\"image\"].values"
   ]
  },
  {
   "cell_type": "code",
   "execution_count": 13,
   "metadata": {
    "collapsed": true
   },
   "outputs": [],
   "source": [
    "data.drop(\"image\",axis=1, inplace=True)"
   ]
  },
  {
   "cell_type": "code",
   "execution_count": 14,
   "metadata": {},
   "outputs": [
    {
     "data": {
      "text/html": [
       "<div>\n",
       "<table border=\"1\" class=\"dataframe\">\n",
       "  <thead>\n",
       "    <tr style=\"text-align: right;\">\n",
       "      <th></th>\n",
       "      <th>Head_x</th>\n",
       "      <th>Head_y</th>\n",
       "      <th>left_hand_x</th>\n",
       "      <th>left_hand_y</th>\n",
       "      <th>steering_wheel_x</th>\n",
       "      <th>steering_wheel_y</th>\n",
       "      <th>right_hand_x</th>\n",
       "      <th>right_hand_y</th>\n",
       "    </tr>\n",
       "  </thead>\n",
       "  <tbody>\n",
       "    <tr>\n",
       "      <th>0</th>\n",
       "      <td>192</td>\n",
       "      <td>178</td>\n",
       "      <td>461</td>\n",
       "      <td>126</td>\n",
       "      <td>443</td>\n",
       "      <td>219</td>\n",
       "      <td>587</td>\n",
       "      <td>321</td>\n",
       "    </tr>\n",
       "    <tr>\n",
       "      <th>1</th>\n",
       "      <td>333</td>\n",
       "      <td>135</td>\n",
       "      <td>636</td>\n",
       "      <td>56</td>\n",
       "      <td>581</td>\n",
       "      <td>171</td>\n",
       "      <td>637</td>\n",
       "      <td>383</td>\n",
       "    </tr>\n",
       "    <tr>\n",
       "      <th>2</th>\n",
       "      <td>242</td>\n",
       "      <td>134</td>\n",
       "      <td>539</td>\n",
       "      <td>161</td>\n",
       "      <td>540</td>\n",
       "      <td>240</td>\n",
       "      <td>633</td>\n",
       "      <td>398</td>\n",
       "    </tr>\n",
       "    <tr>\n",
       "      <th>3</th>\n",
       "      <td>163</td>\n",
       "      <td>132</td>\n",
       "      <td>479</td>\n",
       "      <td>110</td>\n",
       "      <td>440</td>\n",
       "      <td>213</td>\n",
       "      <td>592</td>\n",
       "      <td>304</td>\n",
       "    </tr>\n",
       "    <tr>\n",
       "      <th>4</th>\n",
       "      <td>192</td>\n",
       "      <td>185</td>\n",
       "      <td>514</td>\n",
       "      <td>105</td>\n",
       "      <td>490</td>\n",
       "      <td>213</td>\n",
       "      <td>588</td>\n",
       "      <td>407</td>\n",
       "    </tr>\n",
       "  </tbody>\n",
       "</table>\n",
       "</div>"
      ],
      "text/plain": [
       "  Head_x Head_y left_hand_x left_hand_y steering_wheel_x steering_wheel_y  \\\n",
       "0    192    178         461         126              443              219   \n",
       "1    333    135         636          56              581              171   \n",
       "2    242    134         539         161              540              240   \n",
       "3    163    132         479         110              440              213   \n",
       "4    192    185         514         105              490              213   \n",
       "\n",
       "  right_hand_x right_hand_y  \n",
       "0          587          321  \n",
       "1          637          383  \n",
       "2          633          398  \n",
       "3          592          304  \n",
       "4          588          407  "
      ]
     },
     "execution_count": 14,
     "metadata": {},
     "output_type": "execute_result"
    }
   ],
   "source": [
    "data.head()"
   ]
  },
  {
   "cell_type": "code",
   "execution_count": 15,
   "metadata": {
    "collapsed": true
   },
   "outputs": [],
   "source": [
    "Y = data.values"
   ]
  },
  {
   "cell_type": "code",
   "execution_count": 18,
   "metadata": {
    "collapsed": true
   },
   "outputs": [],
   "source": [
    "x = np.array([np.array(Image.open(fname).resize((150,150),Image.ANTIALIAS)) for fname in \"key_data/\"+X])"
   ]
  },
  {
   "cell_type": "code",
   "execution_count": 19,
   "metadata": {},
   "outputs": [
    {
     "data": {
      "text/plain": [
       "(499, 150, 150, 3)"
      ]
     },
     "execution_count": 19,
     "metadata": {},
     "output_type": "execute_result"
    }
   ],
   "source": [
    "x.shape"
   ]
  },
  {
   "cell_type": "code",
   "execution_count": 27,
   "metadata": {
    "collapsed": true
   },
   "outputs": [],
   "source": [
    "img = Image.fromarray(x[0], 'RGB')"
   ]
  },
  {
   "cell_type": "code",
   "execution_count": 28,
   "metadata": {
    "collapsed": true
   },
   "outputs": [],
   "source": [
    "img.save('out.png')"
   ]
  },
  {
   "cell_type": "code",
   "execution_count": null,
   "metadata": {
    "collapsed": true
   },
   "outputs": [],
   "source": []
  }
 ],
 "metadata": {
  "kernelspec": {
   "display_name": "Python 3",
   "language": "python",
   "name": "python3"
  },
  "language_info": {
   "codemirror_mode": {
    "name": "ipython",
    "version": 3
   },
   "file_extension": ".py",
   "mimetype": "text/x-python",
   "name": "python",
   "nbconvert_exporter": "python",
   "pygments_lexer": "ipython3",
   "version": "3.5.2"
  }
 },
 "nbformat": 4,
 "nbformat_minor": 2
}
