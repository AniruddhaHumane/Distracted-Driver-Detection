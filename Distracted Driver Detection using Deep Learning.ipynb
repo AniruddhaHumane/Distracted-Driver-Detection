{
 "cells": [
  {
   "cell_type": "markdown",
   "metadata": {},
   "source": [
    "# Distracted Driver Detection using deep learning"
   ]
  },
  {
   "cell_type": "markdown",
   "metadata": {},
   "source": [
    "#### Aniruddha Humane  4321\n",
    "#### Neha Prabhune         4341\n",
    "#### Vasanti Sathe            4347 \n",
    "\n",
    "#### Guide - Prof. D. T. Mane"
   ]
  },
  {
   "cell_type": "markdown",
   "metadata": {},
   "source": [
    "Importing Keras"
   ]
  },
  {
   "cell_type": "code",
   "execution_count": null,
   "metadata": {
    "collapsed": true
   },
   "outputs": [],
   "source": [
    "from keras.preprocessing.image import ImageDataGenerator\n",
    "from keras.models import Sequential\n",
    "from keras.layers import Convolution2D, MaxPooling2D\n",
    "from keras.layers import Activation, Dropout, Flatten, Dense"
   ]
  },
  {
   "cell_type": "markdown",
   "metadata": {},
   "source": [
    "Creating a very small neural network from scratch due to limited time\n",
    "###### Details of neural network\n",
    "\n",
    "#### Input layer\n",
    "- no of neurons = no of pixels = 3x150x150 = 64500 neurons\n",
    "\n",
    "#### Convolutional layer\n",
    "- 32 filters (3x3)\n",
    "- input (3*150*150)\n",
    "- Activation: ReLU\n",
    "- input no of neurons = 64500 neurons\n",
    "- output no of neurons = no of filters = 32\n",
    "\n",
    "#### Max Pooling layer\n",
    "- downscaling by (2x2)\n",
    "- input no of neurons = 32\n",
    "- output no of neurons = 16\n",
    "\n",
    "#### Convolutional layer\n",
    "- 32 filters (3x3)\n",
    "- Activation: ReLU\n",
    "- input no of neurons = 16\n",
    "- output no of neurons = 32\n",
    "\n",
    "#### Max Pooling layer\n",
    "- downscaling by (2x2)\n",
    "- input no of neurons = 32\n",
    "- output no of neurons = 16\n",
    "\n",
    "#### Convolutional layer\n",
    "- 64 filters (3x3)\n",
    "- Activation: ReLU\n",
    "- input no of neurons = 16\n",
    "- output no of neurons = 64\n",
    "\n",
    "#### Max Pooling layer\n",
    "- downscaling by (2x2)\n",
    "- input no of neurons = 64\n",
    "- output no of neurons = 32\n",
    "\n",
    "#### Fully connected layer\n",
    "- 64 neurons\n",
    "- Activation: ReLU\n",
    "- input no of neurons = 32\n",
    "- output no of neurons = 64\n",
    "- dropout = 50%\n",
    "\n",
    "#### Fully connected output layer\n",
    "- 10 neurons\n",
    "- Activation: SoftMax\n",
    "- Input no of neurons = 32\n",
    "- output no of neurons = 10"
   ]
  },
  {
   "cell_type": "code",
   "execution_count": null,
   "metadata": {
    "collapsed": true
   },
   "outputs": [],
   "source": [
    "model=Sequential()\n",
    "model.add(Convolution2D(nb_filter=32, nb_row=3, nb_col=3, input_shape=(3,150,150)))\n",
    "model.add(Activation('relu'))\n",
    "model.add(MaxPooling2D(pool_size=(2,2)))\n",
    "\n",
    "model.add(Convolution2D(32, 3, 3))\n",
    "model.add(Activation('relu'))\n",
    "model.add(MaxPooling2D(pool_size=(2,2)))\n",
    "\n",
    "model.add(Convolution2D(nb_filter=64, nb_row=3, nb_col=3))\n",
    "model.add(Activation('relu'))\n",
    "model.add(MaxPooling2D(pool_size=(2,2)))\n",
    "\n",
    "# the model so far outputs 3D feature maps (height, width, features)\n",
    "model.add(Flatten()) # this converts our 3D feature maps to 1D feature vectors\n",
    "model.add(Dense(64)) \n",
    "model.add(Activation('relu'))\n",
    "model.add(Dropout(0.5))\n",
    "\n",
    "# output layer: classify to 10 driver's states\n",
    "model.add(Dense(10))\n",
    "model.add(Activation('softmax'))"
   ]
  },
  {
   "cell_type": "markdown",
   "metadata": {},
   "source": [
    "Configuring the learning process (Compilation)"
   ]
  },
  {
   "cell_type": "code",
   "execution_count": null,
   "metadata": {
    "collapsed": true
   },
   "outputs": [],
   "source": [
    "model.compile(loss='categorical_crossentropy', optimizer='adadelta', metrics=['accuracy'])"
   ]
  },
  {
   "cell_type": "markdown",
   "metadata": {},
   "source": [
    "Setting up _*Augmentation Configuration*_ for training images"
   ]
  },
  {
   "cell_type": "code",
   "execution_count": null,
   "metadata": {
    "collapsed": true
   },
   "outputs": [],
   "source": [
    "train_datagen=ImageDataGenerator(rescale=1.0/255, shear_range=0.2, zoom_range=0.2, horizontal_flip=True)"
   ]
  },
  {
   "cell_type": "markdown",
   "metadata": {},
   "source": [
    "scaling validation images _(no augmentation is applied on validation images as we need to test our model)_"
   ]
  },
  {
   "cell_type": "code",
   "execution_count": null,
   "metadata": {
    "collapsed": true
   },
   "outputs": [],
   "source": [
    "test_datagen=ImageDataGenerator(rescale=1.0/255)"
   ]
  },
  {
   "cell_type": "markdown",
   "metadata": {},
   "source": [
    "Generating training data\n",
    "- read images from directory data/train\n",
    "- Until we have our training data generating indefininte number of _augmented batches of size = 32_"
   ]
  },
  {
   "cell_type": "code",
   "execution_count": null,
   "metadata": {
    "collapsed": true
   },
   "outputs": [],
   "source": [
    "train_generator=train_datagen.flow_from_directory('data/train', target_size=(150,150), batch_size=32, class_mode='categorical')"
   ]
  },
  {
   "cell_type": "markdown",
   "metadata": {},
   "source": [
    "Similar generator for validation set"
   ]
  },
  {
   "cell_type": "code",
   "execution_count": null,
   "metadata": {
    "collapsed": true
   },
   "outputs": [],
   "source": [
    "validation_generator=test_datagen.flow_from_directory('data/validation', target_size=(150,150), batch_size=32, class_mode='categorical')"
   ]
  },
  {
   "cell_type": "markdown",
   "metadata": {},
   "source": [
    "Training the CNN on the training and test set generated"
   ]
  },
  {
   "cell_type": "code",
   "execution_count": null,
   "metadata": {
    "collapsed": true
   },
   "outputs": [],
   "source": [
    "model.fit_generator(train_generator, samples_per_epoch=20924, nb_epoch=20, validation_data=validation_generator, nb_val_samples=800)"
   ]
  },
  {
   "cell_type": "markdown",
   "metadata": {},
   "source": [
    "Save generated weights from training to obtain results later"
   ]
  },
  {
   "cell_type": "code",
   "execution_count": null,
   "metadata": {
    "collapsed": true
   },
   "outputs": [],
   "source": [
    "model.save_weights('driver_state_detection_small_CNN.h5')"
   ]
  }
 ],
 "metadata": {
  "kernelspec": {
   "display_name": "Python 3",
   "language": "python",
   "name": "python3"
  },
  "language_info": {
   "codemirror_mode": {
    "name": "ipython",
    "version": 3
   },
   "file_extension": ".py",
   "mimetype": "text/x-python",
   "name": "python",
   "nbconvert_exporter": "python",
   "pygments_lexer": "ipython3",
   "version": "3.6.3"
  }
 },
 "nbformat": 4,
 "nbformat_minor": 2
}
