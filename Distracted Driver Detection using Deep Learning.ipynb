{
 "cells": [
  {
   "cell_type": "markdown",
   "metadata": {},
   "source": [
    "# Distracted Driver Detection using deep learning"
   ]
  },
  {
   "cell_type": "markdown",
   "metadata": {},
   "source": [
    "#### Aniruddha Humane  4321\n",
    "#### Neha Prabhune         4341\n",
    "#### Vasanti Sathe            4347 \n",
    "\n",
    "#### Guide - Prof. D. T. Mane"
   ]
  },
  {
   "cell_type": "markdown",
   "metadata": {},
   "source": [
    "Importing Keras"
   ]
  },
  {
   "cell_type": "code",
   "execution_count": null,
   "metadata": {
    "collapsed": true
   },
   "outputs": [],
   "source": [
    "from keras.preprocessing.image import ImageDataGenerator\n",
    "from keras.models import Sequential\n",
    "from keras.layers import Convolution2D, MaxPooling2D\n",
    "from keras.layers import Activation, Dropout, Flatten, Dense"
   ]
  },
  {
   "cell_type": "markdown",
   "metadata": {},
   "source": [
    "Creating a very small neural network from scratch due to limited time\n",
    "###### Details of neural network\n",
    "\n",
    "#### Input layer\n",
    "- no of neurons = no of pixels = 3*150*150 = 64500 neurons\n",
    "\n",
    "#### Convolutional layer\n",
    "- 32 filters (3x3)\n",
    "- input (3*150*150)\n",
    "- Activation: ReLU\n",
    "- input no of neurons = no of pixels = 3*150*150 = 64500 neurons\n",
    "- output no of neurons = no of filters = 32\n",
    "\n",
    "#### Max Pooling layer\n",
    "- downscaling by (2x2)\n",
    "- input no of neurons = 32\n",
    "- output no of neurons = 16\n",
    "\n",
    "#### Convolutional layer\n",
    "- 32 filters (3x3)\n",
    "- Activation: ReLU\n",
    "- input no of neurons = 16\n",
    "- output no of neurons = 32\n",
    "\n",
    "#### Max Pooling layer\n",
    "- downscaling by (2x2)\n",
    "- input no of neurons = 32\n",
    "- output no of neurons = 16\n",
    "\n",
    "#### Convolutional layer\n",
    "- 64 filters (3x3)\n",
    "- Activation: ReLU\n",
    "- input no of neurons = 16\n",
    "- output no of neurons = 64\n",
    "\n",
    "#### Max Pooling layer\n",
    "- downscaling by (2x2)\n",
    "- input no of neurons = 64\n",
    "- output no of neurons = 32\n",
    "\n",
    "#### Fully connected layer\n",
    "- 64 neurons\n",
    "- Activation: ReLU\n",
    "- input no of neurons = 32\n",
    "- output no of neurons = 64\n",
    "- dropout = 50%\n",
    "\n",
    "#### Fully connected output layer\n",
    "- 10 neurons\n",
    "- Activation: SoftMax\n",
    "- Input no of neurons = 32\n",
    "- output no of neurons = 10"
   ]
  },
  {
   "cell_type": "code",
   "execution_count": null,
   "metadata": {
    "collapsed": true
   },
   "outputs": [],
   "source": []
  }
 ],
 "metadata": {
  "kernelspec": {
   "display_name": "Python 3",
   "language": "python",
   "name": "python3"
  },
  "language_info": {
   "codemirror_mode": {
    "name": "ipython",
    "version": 3
   },
   "file_extension": ".py",
   "mimetype": "text/x-python",
   "name": "python",
   "nbconvert_exporter": "python",
   "pygments_lexer": "ipython3",
   "version": "3.6.3"
  }
 },
 "nbformat": 4,
 "nbformat_minor": 2
}
