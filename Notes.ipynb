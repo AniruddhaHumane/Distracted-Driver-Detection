{
 "cells": [
  {
   "cell_type": "markdown",
   "metadata": {},
   "source": [
    "The training and validation sets are used during training.\n",
    "```\n",
    "for each epoch\n",
    "    for each training data instance\n",
    "        propagate error through the network\n",
    "        adjust the weights\n",
    "        calculate the accuracy over training data\n",
    "    for each validation data instance\n",
    "        calculate the accuracy over the validation data\n",
    "    if the threshold validation accuracy is met\n",
    "        exit training\n",
    "    else\n",
    "        continue training\n",
    "```\n",
    "Once you're finished training, then you run against your testing set and verify that the accuracy is sufficient.\n",
    "\n",
    "\n",
    "**Training Set**: this data set is used to adjust the weights on the neural network.\n",
    "\n",
    "\n",
    "**Validation Set**: this data set is used to minimize overfitting. You're not adjusting the weights of the network with this data set, you're just verifying that any increase in accuracy over the training data set actually yields an increase in accuracy over a data set that has not been shown to the network before, or at least the network hasn't trained on it (i.e. validation data set). If the accuracy over the training data set increases, but the accuracy over then validation data set stays the same or decreases, then you're overfitting your neural network and you should stop training.\n",
    "\n",
    "\n",
    "**Testing Set**: this data set is used only for testing the final solution in order to confirm the actual predictive power of the network.\n",
    "\n"
   ]
  },
  {
   "cell_type": "code",
   "execution_count": null,
   "metadata": {},
   "outputs": [],
   "source": []
  }
 ],
 "metadata": {
  "kernelspec": {
   "display_name": "Python 3",
   "language": "python",
   "name": "python3"
  },
  "language_info": {
   "codemirror_mode": {
    "name": "ipython",
    "version": 3
   },
   "file_extension": ".py",
   "mimetype": "text/x-python",
   "name": "python",
   "nbconvert_exporter": "python",
   "pygments_lexer": "ipython3",
   "version": "3.6.3"
  }
 },
 "nbformat": 4,
 "nbformat_minor": 2
}
